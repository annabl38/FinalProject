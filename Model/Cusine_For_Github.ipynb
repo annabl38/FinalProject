{
 "cells": [
  {
   "cell_type": "code",
   "execution_count": null,
   "metadata": {},
   "outputs": [],
   "source": [
    "import pandas as pd\n",
    "from sklearn.preprocessing import LabelEncoder\n",
    "from keras.utils import to_categorical\n",
    "import numpy as np\n",
    "import tensorflow as tf\n",
    "from sklearn.model_selection import train_test_split\n",
    "from sklearn.datasets import make_classification\n",
    "from tensorflow.keras.models import Sequential\n",
    "from tensorflow.keras.layers import Dense\n",
    "from keras.models import model_from_json\n",
    "from tensorflow.keras.models import load_model"
   ]
  },
  {
   "cell_type": "code",
   "execution_count": null,
   "metadata": {},
   "outputs": [],
   "source": [
    "data = pd.read_json(\"train.json\")\n",
    "data.head()"
   ]
  },
  {
   "cell_type": "code",
   "execution_count": null,
   "metadata": {},
   "outputs": [],
   "source": [
    "# Create list of unique cuisine types\n",
    "cuisine_list = data['cuisine']\n",
    "cuisine_compilation = []\n",
    "for cuisine in cuisine_list:\n",
    "    cuisine_compilation.append(cuisine)\n",
    "      \n",
    "cuis_unique = list(set(cuisine_compilation))\n",
    "cuis_unique"
   ]
  },
  {
   "cell_type": "code",
   "execution_count": null,
   "metadata": {},
   "outputs": [],
   "source": [
    "# Onehotencoding for cuisine types\n",
    "label_encoder_cuis = LabelEncoder()\n",
    "label_encoder_cuis.fit(cuis_unique)\n",
    "encoded_cuis = label_encoder_cuis.transform(data['cuisine'])\n",
    "one_hot_cuis = to_categorical(encoded_cuis)"
   ]
  },
  {
   "cell_type": "code",
   "execution_count": null,
   "metadata": {},
   "outputs": [],
   "source": [
    "# Check first encoded item\n",
    "one_hot_cuis[0]"
   ]
  },
  {
   "cell_type": "code",
   "execution_count": null,
   "metadata": {},
   "outputs": [],
   "source": [
    "# Add one hot cuisine to dataframe\n",
    "data[\"one_hot_cuisine\"] = list(one_hot_cuis)"
   ]
  },
  {
   "cell_type": "code",
   "execution_count": null,
   "metadata": {},
   "outputs": [],
   "source": [
    "data.head()"
   ]
  },
  {
   "cell_type": "code",
   "execution_count": null,
   "metadata": {},
   "outputs": [],
   "source": [
    "# Organize data frame\n",
    "data = data[[\"cuisine\", \"one_hot_cuisine\", \"ingredients\"]]\n",
    "data.head()"
   ]
  },
  {
   "cell_type": "code",
   "execution_count": null,
   "metadata": {},
   "outputs": [],
   "source": [
    "# Create one hot encoding for ingredients that are in lists!\n",
    "#     -Create dictionary\n",
    "ingredients = data.loc[:,'ingredients']\n",
    "\n",
    "i_map = {}\n",
    "i_list = []\n",
    "counter = 0\n",
    "for lists in ingredients:\n",
    "    for items in lists:\n",
    "        if items not in i_map:\n",
    "            i_list.append(items)\n",
    "            i_map[items] = counter\n",
    "            counter = counter + 1"
   ]
  },
  {
   "cell_type": "code",
   "execution_count": null,
   "metadata": {},
   "outputs": [],
   "source": [
    "dict(list(i_map.items())[0:5])"
   ]
  },
  {
   "cell_type": "code",
   "execution_count": null,
   "metadata": {},
   "outputs": [],
   "source": [
    "# Create one hot encoding for ingredients that are in lists!\n",
    "#     -Create encoded data\n",
    "ingredients_encodings = []\n",
    "for lists in ingredients:\n",
    "    encoding = [0]*len(i_map)\n",
    "    for items in lists:\n",
    "        encoding[i_map[items]] = 1\n",
    "    ingredients_encodings.append(encoding)"
   ]
  },
  {
   "cell_type": "code",
   "execution_count": null,
   "metadata": {},
   "outputs": [],
   "source": [
    "ingredients_encodings[0]"
   ]
  },
  {
   "cell_type": "code",
   "execution_count": null,
   "metadata": {},
   "outputs": [],
   "source": [
    "# Add encoded ingredients to data frame\n",
    "data[\"one_hot_ingredients\"] = ingredients_encodings"
   ]
  },
  {
   "cell_type": "code",
   "execution_count": null,
   "metadata": {},
   "outputs": [],
   "source": [
    "data.head()"
   ]
  },
  {
   "cell_type": "code",
   "execution_count": null,
   "metadata": {},
   "outputs": [],
   "source": [
    "# Create variables for train test split\n",
    "one_hot_cuisine = data['one_hot_cuisine']\n",
    "one_hot_ingredients = data['one_hot_ingredients']"
   ]
  },
  {
   "cell_type": "code",
   "execution_count": null,
   "metadata": {},
   "outputs": [],
   "source": [
    "# Split data\n",
    "ing_train, ing_test,cuis_train, cuis_test = train_test_split(one_hot_ingredients, one_hot_cuisine, random_state=1)"
   ]
  },
  {
   "cell_type": "code",
   "execution_count": null,
   "metadata": {},
   "outputs": [],
   "source": [
    "ing_train.head()"
   ]
  },
  {
   "cell_type": "code",
   "execution_count": null,
   "metadata": {},
   "outputs": [],
   "source": [
    "# Convert object into numpy array \n",
    "cuis_train = np.array(cuis_train.tolist())\n",
    "cuis_test = np.array(cuis_test.tolist())\n",
    "ing_train = np.array(ing_train.tolist())\n",
    "ing_test = np.array(ing_test.tolist())"
   ]
  },
  {
   "cell_type": "code",
   "execution_count": null,
   "metadata": {},
   "outputs": [],
   "source": [
    "ing_train"
   ]
  },
  {
   "cell_type": "code",
   "execution_count": null,
   "metadata": {},
   "outputs": [],
   "source": [
    "# Create model structure\n",
    "deep_model = Sequential()\n",
    "deep_model.add(Dense(units=20, activation='relu', input_dim=6714))\n",
    "deep_model.add(Dense(units=15, activation='relu'))\n",
    "deep_model.add(Dense(units=10, activation='relu'))\n",
    "deep_model.add(Dense(units=20, activation='softmax'))"
   ]
  },
  {
   "cell_type": "code",
   "execution_count": null,
   "metadata": {},
   "outputs": [],
   "source": [
    "deep_model.summary()"
   ]
  },
  {
   "cell_type": "code",
   "execution_count": null,
   "metadata": {},
   "outputs": [],
   "source": [
    "# Compile and fit model\n",
    "deep_model.compile(optimizer='adam',\n",
    "                   loss='categorical_crossentropy',\n",
    "                   metrics=['accuracy'])\n",
    "\n",
    "deep_model.fit(\n",
    "    ing_train,\n",
    "    cuis_train,\n",
    "    epochs=10,\n",
    "    shuffle=True,\n",
    "    verbose=2\n",
    ")"
   ]
  },
  {
   "cell_type": "code",
   "execution_count": null,
   "metadata": {},
   "outputs": [],
   "source": [
    "# Test the model.  Get loss and accuracy.\n",
    "deep_model_loss, deep_model_accuracy = deep_model.evaluate(\n",
    "    ing_test, cuis_test, verbose=2)\n",
    "print(\n",
    "    f\"Deep Neural Network - Loss: {deep_model_loss}, Accuracy: {deep_model_accuracy}\")"
   ]
  },
  {
   "cell_type": "code",
   "execution_count": null,
   "metadata": {},
   "outputs": [],
   "source": [
    "# Save the model weights\n",
    "deep_model.save(\"cuisine_deep_model_trained.h5\")"
   ]
  },
  {
   "cell_type": "code",
   "execution_count": null,
   "metadata": {},
   "outputs": [],
   "source": [
    "# Save the model structure\n",
    "with open('deep_model_architecture.json', 'w') as f:\n",
    "    f.write(deep_model.to_json())"
   ]
  },
  {
   "cell_type": "code",
   "execution_count": null,
   "metadata": {},
   "outputs": [],
   "source": []
  },
  {
   "cell_type": "code",
   "execution_count": null,
   "metadata": {},
   "outputs": [],
   "source": []
  },
  {
   "cell_type": "code",
   "execution_count": null,
   "metadata": {},
   "outputs": [],
   "source": []
  },
  {
   "cell_type": "markdown",
   "metadata": {},
   "source": []
  }
 ],
 "metadata": {
  "kernelspec": {
   "display_name": "Python 3",
   "language": "python",
   "name": "python3"
  },
  "language_info": {
   "codemirror_mode": {
    "name": "ipython",
    "version": 3
   },
   "file_extension": ".py",
   "mimetype": "text/x-python",
   "name": "python",
   "nbconvert_exporter": "python",
   "pygments_lexer": "ipython3",
   "version": "3.7.1"
  }
 },
 "nbformat": 4,
 "nbformat_minor": 2
}
